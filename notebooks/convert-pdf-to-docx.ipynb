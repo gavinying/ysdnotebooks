{
 "cells": [
  {
   "cell_type": "code",
   "execution_count": 2,
   "metadata": {},
   "outputs": [
    {
     "name": "stderr",
     "output_type": "stream",
     "text": [
      "[INFO] Start to convert /home/ysd/Downloads/model-constitution-for-pte-ltd-company-(standard-3).pdf\n",
      "[INFO] \u001b[1;36m[1/4] Opening document...\u001b[0m\n",
      "[INFO] \u001b[1;36m[2/4] Analyzing document...\u001b[0m\n"
     ]
    },
    {
     "name": "stderr",
     "output_type": "stream",
     "text": [
      "[INFO] \u001b[1;36m[3/4] Parsing pages...\u001b[0m\n",
      "[INFO] (1/22) Page 1\n",
      "[INFO] (2/22) Page 2\n",
      "[INFO] (3/22) Page 3\n",
      "[INFO] (4/22) Page 4\n",
      "[INFO] (5/22) Page 5\n",
      "[INFO] (6/22) Page 6\n",
      "[INFO] (7/22) Page 7\n",
      "[INFO] (8/22) Page 8\n",
      "[INFO] (9/22) Page 9\n",
      "[INFO] (10/22) Page 10\n",
      "[INFO] (11/22) Page 11\n",
      "[INFO] (12/22) Page 12\n",
      "[INFO] (13/22) Page 13\n",
      "[INFO] (14/22) Page 14\n",
      "[INFO] (15/22) Page 15\n",
      "[INFO] (16/22) Page 16\n",
      "[INFO] (17/22) Page 17\n",
      "[INFO] (18/22) Page 18\n",
      "[INFO] (19/22) Page 19\n",
      "[INFO] (20/22) Page 20\n",
      "[INFO] (21/22) Page 21\n",
      "[INFO] (22/22) Page 22\n",
      "[INFO] \u001b[1;36m[4/4] Creating pages...\u001b[0m\n",
      "[INFO] (1/22) Page 1\n",
      "[INFO] (2/22) Page 2\n",
      "[INFO] (3/22) Page 3\n",
      "[INFO] (4/22) Page 4\n",
      "[INFO] (5/22) Page 5\n",
      "[INFO] (6/22) Page 6\n",
      "[INFO] (7/22) Page 7\n",
      "[INFO] (8/22) Page 8\n",
      "[INFO] (9/22) Page 9\n",
      "[INFO] (10/22) Page 10\n",
      "[INFO] (11/22) Page 11\n",
      "[INFO] (12/22) Page 12\n",
      "[INFO] (13/22) Page 13\n",
      "[INFO] (14/22) Page 14\n",
      "[INFO] (15/22) Page 15\n",
      "[INFO] (16/22) Page 16\n",
      "[INFO] (17/22) Page 17\n",
      "[INFO] (18/22) Page 18\n",
      "[INFO] (19/22) Page 19\n",
      "[INFO] (20/22) Page 20\n",
      "[INFO] (21/22) Page 21\n",
      "[INFO] (22/22) Page 22\n",
      "[INFO] Terminated in 22.24s.\n"
     ]
    },
    {
     "name": "stdout",
     "output_type": "stream",
     "text": [
      "Conversion completed!\n"
     ]
    }
   ],
   "source": [
    "from pdf2docx import Converter\n",
    "\n",
    "pdf_path = '/home/ysd/Downloads/model-constitution-for-pte-ltd-company-(standard-3).pdf'  # Replace with your PDF file path\n",
    "docx_path = '/home/ysd/Downloads/model-constitution-for-pte-ltd-company-(standard-3).docx'  # Replace with the desired DOCX file path\n",
    "\n",
    "# Convert PDF to DOCX\n",
    "cv = Converter(pdf_path)\n",
    "cv.convert(docx_path, start=0, end=None)\n",
    "cv.close()\n",
    "\n",
    "print(\"Conversion completed!\")"
   ]
  }
 ],
 "metadata": {
  "kernelspec": {
   "display_name": ".venv",
   "language": "python",
   "name": "python3"
  },
  "language_info": {
   "codemirror_mode": {
    "name": "ipython",
    "version": 3
   },
   "file_extension": ".py",
   "mimetype": "text/x-python",
   "name": "python",
   "nbconvert_exporter": "python",
   "pygments_lexer": "ipython3",
   "version": "3.12.3"
  }
 },
 "nbformat": 4,
 "nbformat_minor": 2
}
